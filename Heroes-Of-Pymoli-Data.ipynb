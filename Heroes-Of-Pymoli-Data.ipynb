{
 "cells": [
  {
   "cell_type": "markdown",
   "metadata": {},
   "source": [
    "### Heroes Of Pymoli Data Analysis\n",
    "* Of the 1163 active players, the vast majority are male (84%). There also exists, a smaller, but notable proportion of female players (14%).\n",
    "\n",
    "* Our peak age demographic falls between 20-24 (44.8%) with secondary groups falling between 15-19 (18.60%) and 25-29 (13.4%).  \n",
    "-----"
   ]
  },
  {
   "cell_type": "markdown",
   "metadata": {},
   "source": [
    "### Note\n",
    "* Instructions have been included for each segment. You do not have to follow them exactly, but they are included to help you think through the steps."
   ]
  },
  {
   "cell_type": "code",
   "execution_count": 1,
   "metadata": {},
   "outputs": [
    {
     "data": {
      "text/html": [
       "<div>\n",
       "<style scoped>\n",
       "    .dataframe tbody tr th:only-of-type {\n",
       "        vertical-align: middle;\n",
       "    }\n",
       "\n",
       "    .dataframe tbody tr th {\n",
       "        vertical-align: top;\n",
       "    }\n",
       "\n",
       "    .dataframe thead th {\n",
       "        text-align: right;\n",
       "    }\n",
       "</style>\n",
       "<table border=\"1\" class=\"dataframe\">\n",
       "  <thead>\n",
       "    <tr style=\"text-align: right;\">\n",
       "      <th></th>\n",
       "      <th>Purchase ID</th>\n",
       "      <th>SN</th>\n",
       "      <th>Age</th>\n",
       "      <th>Gender</th>\n",
       "      <th>Item ID</th>\n",
       "      <th>Item Name</th>\n",
       "      <th>Price</th>\n",
       "    </tr>\n",
       "  </thead>\n",
       "  <tbody>\n",
       "    <tr>\n",
       "      <th>0</th>\n",
       "      <td>0</td>\n",
       "      <td>Lisim78</td>\n",
       "      <td>20</td>\n",
       "      <td>Male</td>\n",
       "      <td>108</td>\n",
       "      <td>Extraction, Quickblade Of Trembling Hands</td>\n",
       "      <td>3.53</td>\n",
       "    </tr>\n",
       "    <tr>\n",
       "      <th>1</th>\n",
       "      <td>1</td>\n",
       "      <td>Lisovynya38</td>\n",
       "      <td>40</td>\n",
       "      <td>Male</td>\n",
       "      <td>143</td>\n",
       "      <td>Frenzied Scimitar</td>\n",
       "      <td>1.56</td>\n",
       "    </tr>\n",
       "    <tr>\n",
       "      <th>2</th>\n",
       "      <td>2</td>\n",
       "      <td>Ithergue48</td>\n",
       "      <td>24</td>\n",
       "      <td>Male</td>\n",
       "      <td>92</td>\n",
       "      <td>Final Critic</td>\n",
       "      <td>4.88</td>\n",
       "    </tr>\n",
       "    <tr>\n",
       "      <th>3</th>\n",
       "      <td>3</td>\n",
       "      <td>Chamassasya86</td>\n",
       "      <td>24</td>\n",
       "      <td>Male</td>\n",
       "      <td>100</td>\n",
       "      <td>Blindscythe</td>\n",
       "      <td>3.27</td>\n",
       "    </tr>\n",
       "    <tr>\n",
       "      <th>4</th>\n",
       "      <td>4</td>\n",
       "      <td>Iskosia90</td>\n",
       "      <td>23</td>\n",
       "      <td>Male</td>\n",
       "      <td>131</td>\n",
       "      <td>Fury</td>\n",
       "      <td>1.44</td>\n",
       "    </tr>\n",
       "  </tbody>\n",
       "</table>\n",
       "</div>"
      ],
      "text/plain": [
       "   Purchase ID             SN  Age Gender  Item ID  \\\n",
       "0            0        Lisim78   20   Male      108   \n",
       "1            1    Lisovynya38   40   Male      143   \n",
       "2            2     Ithergue48   24   Male       92   \n",
       "3            3  Chamassasya86   24   Male      100   \n",
       "4            4      Iskosia90   23   Male      131   \n",
       "\n",
       "                                   Item Name  Price  \n",
       "0  Extraction, Quickblade Of Trembling Hands   3.53  \n",
       "1                          Frenzied Scimitar   1.56  \n",
       "2                               Final Critic   4.88  \n",
       "3                                Blindscythe   3.27  \n",
       "4                                       Fury   1.44  "
      ]
     },
     "execution_count": 1,
     "metadata": {},
     "output_type": "execute_result"
    }
   ],
   "source": [
    "# Dependencies and Setup\n",
    "import pandas as pd\n",
    "import numpy as np\n",
    "\n",
    "# File to Load (Remember to Change These)\n",
    "Purchase_csv = \"Resources/purchase_data.csv\"\n",
    "\n",
    "# Read Purchasing File and store into Pandas data frame\n",
    "purchase_data = pd.read_csv(Purchase_csv)\n",
    "purchase_data.head()"
   ]
  },
  {
   "cell_type": "markdown",
   "metadata": {},
   "source": [
    "## Player Count"
   ]
  },
  {
   "cell_type": "markdown",
   "metadata": {},
   "source": [
    "* Display the total number of players\n"
   ]
  },
  {
   "cell_type": "code",
   "execution_count": 2,
   "metadata": {},
   "outputs": [
    {
     "data": {
      "text/html": [
       "<div>\n",
       "<style scoped>\n",
       "    .dataframe tbody tr th:only-of-type {\n",
       "        vertical-align: middle;\n",
       "    }\n",
       "\n",
       "    .dataframe tbody tr th {\n",
       "        vertical-align: top;\n",
       "    }\n",
       "\n",
       "    .dataframe thead th {\n",
       "        text-align: right;\n",
       "    }\n",
       "</style>\n",
       "<table border=\"1\" class=\"dataframe\">\n",
       "  <thead>\n",
       "    <tr style=\"text-align: right;\">\n",
       "      <th></th>\n",
       "      <th>Total Players</th>\n",
       "    </tr>\n",
       "  </thead>\n",
       "  <tbody>\n",
       "    <tr>\n",
       "      <th>0</th>\n",
       "      <td>576</td>\n",
       "    </tr>\n",
       "  </tbody>\n",
       "</table>\n",
       "</div>"
      ],
      "text/plain": [
       "   Total Players\n",
       "0            576"
      ]
     },
     "execution_count": 2,
     "metadata": {},
     "output_type": "execute_result"
    }
   ],
   "source": [
    "#player count \n",
    "#drop the duplicates name \n",
    "#select and count the SN \n",
    "Total_player_number =(purchase_data[\"SN\"]).drop_duplicates().count() \n",
    "\n",
    "#create the table\n",
    "pd.DataFrame({\"Total Players\":[Total_player_number]})\n",
    "\n"
   ]
  },
  {
   "cell_type": "markdown",
   "metadata": {},
   "source": [
    "## Purchasing Analysis (Total)"
   ]
  },
  {
   "cell_type": "markdown",
   "metadata": {},
   "source": [
    "* Run basic calculations to obtain number of unique items, average price, etc.\n",
    "\n",
    "\n",
    "* Create a summary data frame to hold the results\n",
    "\n",
    "\n",
    "* Optional: give the displayed data cleaner formatting\n",
    "\n",
    "\n",
    "* Display the summary data frame\n"
   ]
  },
  {
   "cell_type": "code",
   "execution_count": 3,
   "metadata": {},
   "outputs": [
    {
     "data": {
      "text/plain": [
       "183"
      ]
     },
     "execution_count": 3,
     "metadata": {},
     "output_type": "execute_result"
    }
   ],
   "source": [
    "# unique items count \n",
    "Unique_Items =len(purchase_data[\"Item ID\"].unique())\n",
    "Unique_Items\n",
    "\n"
   ]
  },
  {
   "cell_type": "code",
   "execution_count": 4,
   "metadata": {},
   "outputs": [
    {
     "data": {
      "text/plain": [
       "'$3.05'"
      ]
     },
     "execution_count": 4,
     "metadata": {},
     "output_type": "execute_result"
    }
   ],
   "source": [
    "# average price round to 2 decimal place\n",
    "\n",
    "Average_Price = \"${}\".format(round(purchase_data[\"Price\"].mean() , 2 ))\n",
    "\n",
    "Average_Price\n",
    " "
   ]
  },
  {
   "cell_type": "code",
   "execution_count": 5,
   "metadata": {},
   "outputs": [
    {
     "data": {
      "text/plain": [
       "780"
      ]
     },
     "execution_count": 5,
     "metadata": {},
     "output_type": "execute_result"
    }
   ],
   "source": [
    "\n",
    "# Total number of purchases\n",
    "Total_Number = purchase_data[\"Price\"].count()\n",
    "Total_Number\n"
   ]
  },
  {
   "cell_type": "code",
   "execution_count": 6,
   "metadata": {},
   "outputs": [
    {
     "data": {
      "text/plain": [
       "'$2379.77'"
      ]
     },
     "execution_count": 6,
     "metadata": {},
     "output_type": "execute_result"
    }
   ],
   "source": [
    "# Total revenue\n",
    "Total = purchase_data[\"Price\"].sum()\n",
    "Total_Revenue = \"${}\".format(Total)\n",
    "Total_Revenue"
   ]
  },
  {
   "cell_type": "code",
   "execution_count": 7,
   "metadata": {},
   "outputs": [
    {
     "data": {
      "text/html": [
       "<div>\n",
       "<style scoped>\n",
       "    .dataframe tbody tr th:only-of-type {\n",
       "        vertical-align: middle;\n",
       "    }\n",
       "\n",
       "    .dataframe tbody tr th {\n",
       "        vertical-align: top;\n",
       "    }\n",
       "\n",
       "    .dataframe thead th {\n",
       "        text-align: right;\n",
       "    }\n",
       "</style>\n",
       "<table border=\"1\" class=\"dataframe\">\n",
       "  <thead>\n",
       "    <tr style=\"text-align: right;\">\n",
       "      <th></th>\n",
       "      <th>Number of Unique Items</th>\n",
       "      <th>Average Price</th>\n",
       "      <th>Number of Purchases</th>\n",
       "      <th>Total Revenue</th>\n",
       "    </tr>\n",
       "  </thead>\n",
       "  <tbody>\n",
       "    <tr>\n",
       "      <th>0</th>\n",
       "      <td>183</td>\n",
       "      <td>$3.05</td>\n",
       "      <td>780</td>\n",
       "      <td>$2379.77</td>\n",
       "    </tr>\n",
       "  </tbody>\n",
       "</table>\n",
       "</div>"
      ],
      "text/plain": [
       "   Number of Unique Items Average Price  Number of Purchases Total Revenue\n",
       "0                     183         $3.05                  780      $2379.77"
      ]
     },
     "execution_count": 7,
     "metadata": {},
     "output_type": "execute_result"
    }
   ],
   "source": [
    "\n",
    "#summary data frame \n",
    "d = { \n",
    "     \"Number of Unique Items\":[Unique_Items],\n",
    "     \"Average Price\":[Average_Price],\n",
    "     \"Number of Purchases\" : [Total_Number],\n",
    "     \"Total Revenue\" : [Total_Revenue]\n",
    "}\n",
    "\n",
    "Summary_Table = pd.DataFrame ( d ,columns = [\"Number of Unique Items\",\"Average Price\",\"Number of Purchases\",\"Total Revenue\"])\n",
    "\n",
    "Summary_Table"
   ]
  },
  {
   "cell_type": "markdown",
   "metadata": {},
   "source": [
    "## Gender Demographics"
   ]
  },
  {
   "cell_type": "markdown",
   "metadata": {},
   "source": [
    "* Percentage and Count of Male Players\n",
    "\n",
    "\n",
    "* Percentage and Count of Female Players\n",
    "\n",
    "\n",
    "* Percentage and Count of Other / Non-Disclosed\n",
    "\n",
    "\n"
   ]
  },
  {
   "cell_type": "code",
   "execution_count": 8,
   "metadata": {},
   "outputs": [
    {
     "data": {
      "text/plain": [
       "Gender\n",
       "Female                    81\n",
       "Male                     484\n",
       "Other / Non-Disclosed     11\n",
       "Name: SN, dtype: int64"
      ]
     },
     "execution_count": 8,
     "metadata": {},
     "output_type": "execute_result"
    }
   ],
   "source": [
    "# total Gender count\n",
    "Total_Gender_Count = purchase_data.groupby(\"Gender\").nunique()[\"SN\"]\n",
    "Total_Gender_Count"
   ]
  },
  {
   "cell_type": "code",
   "execution_count": 9,
   "metadata": {},
   "outputs": [
    {
     "data": {
      "text/plain": [
       "Gender\n",
       "Female                   14.06\n",
       "Male                     84.03\n",
       "Other / Non-Disclosed     1.91\n",
       "Name: SN, dtype: float64"
      ]
     },
     "execution_count": 9,
     "metadata": {},
     "output_type": "execute_result"
    }
   ],
   "source": [
    "#total percentage count of Male\n",
    "Total_Percentage = round( Total_Gender_Count / Total_player_number * 100 , 2)\n",
    "Total_Percentage\n"
   ]
  },
  {
   "cell_type": "code",
   "execution_count": 10,
   "metadata": {},
   "outputs": [
    {
     "data": {
      "text/html": [
       "<div>\n",
       "<style scoped>\n",
       "    .dataframe tbody tr th:only-of-type {\n",
       "        vertical-align: middle;\n",
       "    }\n",
       "\n",
       "    .dataframe tbody tr th {\n",
       "        vertical-align: top;\n",
       "    }\n",
       "\n",
       "    .dataframe thead th {\n",
       "        text-align: right;\n",
       "    }\n",
       "</style>\n",
       "<table border=\"1\" class=\"dataframe\">\n",
       "  <thead>\n",
       "    <tr style=\"text-align: right;\">\n",
       "      <th></th>\n",
       "      <th>Total Count</th>\n",
       "      <th>Percentage of players</th>\n",
       "    </tr>\n",
       "    <tr>\n",
       "      <th>Gender</th>\n",
       "      <th></th>\n",
       "      <th></th>\n",
       "    </tr>\n",
       "  </thead>\n",
       "  <tbody>\n",
       "    <tr>\n",
       "      <th>Male</th>\n",
       "      <td>484</td>\n",
       "      <td>84.03</td>\n",
       "    </tr>\n",
       "    <tr>\n",
       "      <th>Female</th>\n",
       "      <td>81</td>\n",
       "      <td>14.06</td>\n",
       "    </tr>\n",
       "    <tr>\n",
       "      <th>Other / Non-Disclosed</th>\n",
       "      <td>11</td>\n",
       "      <td>1.91</td>\n",
       "    </tr>\n",
       "  </tbody>\n",
       "</table>\n",
       "</div>"
      ],
      "text/plain": [
       "                       Total Count  Percentage of players\n",
       "Gender                                                   \n",
       "Male                           484                  84.03\n",
       "Female                          81                  14.06\n",
       "Other / Non-Disclosed           11                   1.91"
      ]
     },
     "execution_count": 10,
     "metadata": {},
     "output_type": "execute_result"
    }
   ],
   "source": [
    "#create the DataFrame\n",
    "\n",
    "Gender_Demographics = pd . DataFrame( { \n",
    " \n",
    "    \"Total Count\" : Total_Gender_Count,\n",
    "    \"Percentage of players\":Total_Percentage\n",
    "})\n",
    "\n",
    "GenderDataFrame = Gender_Demographics.sort_values(\"Total Count\" , ascending = False)\n",
    "\n",
    "GenderDataFrame\n"
   ]
  },
  {
   "cell_type": "markdown",
   "metadata": {},
   "source": [
    "\n",
    "## Purchasing Analysis (Gender)"
   ]
  },
  {
   "cell_type": "markdown",
   "metadata": {},
   "source": [
    "* Run basic calculations to obtain purchase count, avg. purchase price, avg. purchase total per person etc. by gender\n",
    "\n",
    "\n",
    "\n",
    "\n",
    "* Create a summary data frame to hold the results\n",
    "\n",
    "\n",
    "* Optional: give the displayed data cleaner formatting\n",
    "\n",
    "\n",
    "* Display the summary data frame"
   ]
  },
  {
   "cell_type": "code",
   "execution_count": 11,
   "metadata": {},
   "outputs": [
    {
     "data": {
      "text/html": [
       "<div>\n",
       "<style scoped>\n",
       "    .dataframe tbody tr th:only-of-type {\n",
       "        vertical-align: middle;\n",
       "    }\n",
       "\n",
       "    .dataframe tbody tr th {\n",
       "        vertical-align: top;\n",
       "    }\n",
       "\n",
       "    .dataframe thead th {\n",
       "        text-align: right;\n",
       "    }\n",
       "</style>\n",
       "<table border=\"1\" class=\"dataframe\">\n",
       "  <thead>\n",
       "    <tr style=\"text-align: right;\">\n",
       "      <th></th>\n",
       "      <th>Purchase Count</th>\n",
       "      <th>Average Purchase Price</th>\n",
       "      <th>Total Purchase Value</th>\n",
       "      <th>Avg Total Purchase per person</th>\n",
       "    </tr>\n",
       "    <tr>\n",
       "      <th>Gender</th>\n",
       "      <th></th>\n",
       "      <th></th>\n",
       "      <th></th>\n",
       "      <th></th>\n",
       "    </tr>\n",
       "  </thead>\n",
       "  <tbody>\n",
       "    <tr>\n",
       "      <th>Female</th>\n",
       "      <td>113</td>\n",
       "      <td>$3.20</td>\n",
       "      <td>$361.94</td>\n",
       "      <td>$4.47</td>\n",
       "    </tr>\n",
       "    <tr>\n",
       "      <th>Male</th>\n",
       "      <td>652</td>\n",
       "      <td>$3.02</td>\n",
       "      <td>$1,967.64</td>\n",
       "      <td>$4.07</td>\n",
       "    </tr>\n",
       "    <tr>\n",
       "      <th>Other / Non-Disclosed</th>\n",
       "      <td>15</td>\n",
       "      <td>$3.35</td>\n",
       "      <td>$50.19</td>\n",
       "      <td>$4.56</td>\n",
       "    </tr>\n",
       "  </tbody>\n",
       "</table>\n",
       "</div>"
      ],
      "text/plain": [
       "                       Purchase Count Average Purchase Price  \\\n",
       "Gender                                                         \n",
       "Female                            113                  $3.20   \n",
       "Male                              652                  $3.02   \n",
       "Other / Non-Disclosed              15                  $3.35   \n",
       "\n",
       "                      Total Purchase Value Avg Total Purchase per person  \n",
       "Gender                                                                    \n",
       "Female                             $361.94                         $4.47  \n",
       "Male                             $1,967.64                         $4.07  \n",
       "Other / Non-Disclosed               $50.19                         $4.56  "
      ]
     },
     "execution_count": 11,
     "metadata": {},
     "output_type": "execute_result"
    }
   ],
   "source": [
    "## Purchasing Analysis (Gender)\n",
    "\n",
    "# Run basic calculations to obtain purchase count\n",
    "purchase_count =purchase_data.groupby(\"Gender\")[\"Purchase ID\"].count()\n",
    "purchase_count\n",
    "\n",
    "# Run basic calculations to obtain avg. purchase price and formatting\n",
    "avgpurchaseprice=(purchase_data.groupby(\"Gender\")[\"Price\"].mean())\n",
    "avg_purchase_price=avgpurchaseprice.map(\"${:,.2f}\".format)\n",
    "avg_purchase_price\n",
    "\n",
    "# Run basic calculations to obtain average total purchase by gender and formatting\n",
    "\n",
    "PvgPurchaseTotal = purchase_data.groupby(\"Gender\")[\"Price\"].sum()\n",
    "avg_purchase_total = PvgPurchaseTotal.map(\"${:,.2f}\".format)\n",
    "avg_purchase_total\n",
    "\n",
    "\n",
    "#Average purchase total by gender and formatting\n",
    "AvgPurchasePerPerson = PvgPurchaseTotal / Total_Gender_Count\n",
    "avg_purchase_per_person = AvgPurchasePerPerson.map(\"${:,.2f}\".format)\n",
    "avg_purchase_per_person\n",
    "\n",
    "# Create a summary data frame to hold the result\n",
    "\n",
    "x={\n",
    "    \"Purchase Count\":purchase_count,\n",
    "    \"Average Purchase Price\":avg_purchase_price,\n",
    "    \"Total Purchase Value\":avg_purchase_total,\n",
    "    \"Avg Total Purchase per person\":avg_purchase_per_person\n",
    "}\n",
    "\n",
    "Summary_Gender_Table= pd.DataFrame (x,columns = [\"Purchase Count\",\"Average Purchase Price\",\"Total Purchase Value\",\"Avg Total Purchase per person\"])\n",
    "\n",
    "Summary_Gender_Table    \n",
    "\n"
   ]
  },
  {
   "cell_type": "markdown",
   "metadata": {},
   "source": [
    "## Age Demographics"
   ]
  },
  {
   "cell_type": "markdown",
   "metadata": {},
   "source": [
    "* Establish bins for ages\n",
    "\n",
    "\n",
    "* Categorize the existing players using the age bins. Hint: use pd.cut()\n",
    "\n",
    "\n",
    "* Calculate the numbers and percentages by age group\n",
    "\n",
    "\n",
    "* Create a summary data frame to hold the results\n",
    "\n",
    "\n",
    "* Optional: round the percentage column to two decimal points\n",
    "\n",
    "\n",
    "* Display Age Demographics Table\n"
   ]
  },
  {
   "cell_type": "code",
   "execution_count": 12,
   "metadata": {},
   "outputs": [
    {
     "data": {
      "text/html": [
       "<div>\n",
       "<style scoped>\n",
       "    .dataframe tbody tr th:only-of-type {\n",
       "        vertical-align: middle;\n",
       "    }\n",
       "\n",
       "    .dataframe tbody tr th {\n",
       "        vertical-align: top;\n",
       "    }\n",
       "\n",
       "    .dataframe thead th {\n",
       "        text-align: right;\n",
       "    }\n",
       "</style>\n",
       "<table border=\"1\" class=\"dataframe\">\n",
       "  <thead>\n",
       "    <tr style=\"text-align: right;\">\n",
       "      <th></th>\n",
       "      <th>Total Count</th>\n",
       "      <th>Percentage of players</th>\n",
       "    </tr>\n",
       "    <tr>\n",
       "      <th>segment_age</th>\n",
       "      <th></th>\n",
       "      <th></th>\n",
       "    </tr>\n",
       "  </thead>\n",
       "  <tbody>\n",
       "    <tr>\n",
       "      <th>&lt;10</th>\n",
       "      <td>24</td>\n",
       "      <td>4.17</td>\n",
       "    </tr>\n",
       "    <tr>\n",
       "      <th>10-14</th>\n",
       "      <td>41</td>\n",
       "      <td>7.12</td>\n",
       "    </tr>\n",
       "    <tr>\n",
       "      <th>15-19</th>\n",
       "      <td>150</td>\n",
       "      <td>26.04</td>\n",
       "    </tr>\n",
       "    <tr>\n",
       "      <th>20-24</th>\n",
       "      <td>232</td>\n",
       "      <td>40.28</td>\n",
       "    </tr>\n",
       "    <tr>\n",
       "      <th>25-29</th>\n",
       "      <td>59</td>\n",
       "      <td>10.24</td>\n",
       "    </tr>\n",
       "    <tr>\n",
       "      <th>30-34</th>\n",
       "      <td>37</td>\n",
       "      <td>6.42</td>\n",
       "    </tr>\n",
       "    <tr>\n",
       "      <th>35-39</th>\n",
       "      <td>26</td>\n",
       "      <td>4.51</td>\n",
       "    </tr>\n",
       "    <tr>\n",
       "      <th>40+</th>\n",
       "      <td>7</td>\n",
       "      <td>1.22</td>\n",
       "    </tr>\n",
       "  </tbody>\n",
       "</table>\n",
       "</div>"
      ],
      "text/plain": [
       "             Total Count  Percentage of players\n",
       "segment_age                                    \n",
       "<10                   24                   4.17\n",
       "10-14                 41                   7.12\n",
       "15-19                150                  26.04\n",
       "20-24                232                  40.28\n",
       "25-29                 59                  10.24\n",
       "30-34                 37                   6.42\n",
       "35-39                 26                   4.51\n",
       "40+                    7                   1.22"
      ]
     },
     "execution_count": 12,
     "metadata": {},
     "output_type": "execute_result"
    }
   ],
   "source": [
    "# Establish bins for ages define as 0 to 10,10 to 15\n",
    "bins = [0, 10, 15, 20, 25, 30, 35, 40, 100]\n",
    "\n",
    "#name of the group\n",
    "group_names = [\"<10\", \"10-14\", \"15-19\", \"20-24\", \"25-29\", \"30-34\", \"35-39\", \"40+\"]\n",
    "\n",
    "# Categorize the existing players using the age bins. Hint: use pd.cut()\n",
    "purchase_data[\"segment_age\"] = pd.cut(purchase_data[\"Age\"],bins,labels= group_names)\n",
    "\n",
    "Interval_age = purchase_data.groupby(\"segment_age\")\n",
    "\n",
    "#total players by age category\n",
    "total_count_age = Interval_age[\"SN\"].nunique()\n",
    "\n",
    "# Calculate the numbers and percentages by age group and \n",
    "# round the percentage column to two decimal points\n",
    "percentage_by_age_group = round((total_count_age/Total_player_number)*100,2)\n",
    "\n",
    "# Create a summary data frame to hold the results and Display Age Demographics Table\n",
    "Age_Demographics=pd.DataFrame({\"Total Count\":total_count_age,\n",
    "                               \"Percentage of players\":percentage_by_age_group,\n",
    "                                  \n",
    "                                  })\n",
    "Age_Demographics\n",
    "\n",
    "\n"
   ]
  },
  {
   "cell_type": "markdown",
   "metadata": {},
   "source": [
    "## Purchasing Analysis (Age)"
   ]
  },
  {
   "cell_type": "markdown",
   "metadata": {},
   "source": [
    "* Bin the purchase_data data frame by age\n",
    "\n",
    "\n",
    "* Run basic calculations to obtain purchase count, avg. purchase price, avg. purchase total per person etc. in the table below\n",
    "\n",
    "\n",
    "* Create a summary data frame to hold the results\n",
    "\n",
    "\n",
    "* Optional: give the displayed data cleaner formatting\n",
    "\n",
    "\n",
    "* Display the summary data frame"
   ]
  },
  {
   "cell_type": "code",
   "execution_count": 13,
   "metadata": {},
   "outputs": [
    {
     "data": {
      "text/html": [
       "<div>\n",
       "<style scoped>\n",
       "    .dataframe tbody tr th:only-of-type {\n",
       "        vertical-align: middle;\n",
       "    }\n",
       "\n",
       "    .dataframe tbody tr th {\n",
       "        vertical-align: top;\n",
       "    }\n",
       "\n",
       "    .dataframe thead th {\n",
       "        text-align: right;\n",
       "    }\n",
       "</style>\n",
       "<table border=\"1\" class=\"dataframe\">\n",
       "  <thead>\n",
       "    <tr style=\"text-align: right;\">\n",
       "      <th></th>\n",
       "      <th>Purchase Count</th>\n",
       "      <th>Average Purchase Price</th>\n",
       "      <th>Total Purchase Value</th>\n",
       "      <th>Avg Total Purchase per person</th>\n",
       "    </tr>\n",
       "    <tr>\n",
       "      <th>segment_age</th>\n",
       "      <th></th>\n",
       "      <th></th>\n",
       "      <th></th>\n",
       "      <th></th>\n",
       "    </tr>\n",
       "  </thead>\n",
       "  <tbody>\n",
       "    <tr>\n",
       "      <th>&lt;10</th>\n",
       "      <td>32</td>\n",
       "      <td>$3.40</td>\n",
       "      <td>$108.96</td>\n",
       "      <td>$4.54</td>\n",
       "    </tr>\n",
       "    <tr>\n",
       "      <th>10-14</th>\n",
       "      <td>54</td>\n",
       "      <td>$2.90</td>\n",
       "      <td>$156.60</td>\n",
       "      <td>$3.82</td>\n",
       "    </tr>\n",
       "    <tr>\n",
       "      <th>15-19</th>\n",
       "      <td>200</td>\n",
       "      <td>$3.11</td>\n",
       "      <td>$621.56</td>\n",
       "      <td>$4.14</td>\n",
       "    </tr>\n",
       "    <tr>\n",
       "      <th>20-24</th>\n",
       "      <td>325</td>\n",
       "      <td>$3.02</td>\n",
       "      <td>$981.64</td>\n",
       "      <td>$4.23</td>\n",
       "    </tr>\n",
       "    <tr>\n",
       "      <th>25-29</th>\n",
       "      <td>77</td>\n",
       "      <td>$2.88</td>\n",
       "      <td>$221.42</td>\n",
       "      <td>$3.75</td>\n",
       "    </tr>\n",
       "    <tr>\n",
       "      <th>30-34</th>\n",
       "      <td>52</td>\n",
       "      <td>$2.99</td>\n",
       "      <td>$155.71</td>\n",
       "      <td>$4.21</td>\n",
       "    </tr>\n",
       "    <tr>\n",
       "      <th>35-39</th>\n",
       "      <td>33</td>\n",
       "      <td>$3.40</td>\n",
       "      <td>$112.35</td>\n",
       "      <td>$4.32</td>\n",
       "    </tr>\n",
       "    <tr>\n",
       "      <th>40+</th>\n",
       "      <td>7</td>\n",
       "      <td>$3.08</td>\n",
       "      <td>$21.53</td>\n",
       "      <td>$3.08</td>\n",
       "    </tr>\n",
       "  </tbody>\n",
       "</table>\n",
       "</div>"
      ],
      "text/plain": [
       "             Purchase Count Average Purchase Price Total Purchase Value  \\\n",
       "segment_age                                                               \n",
       "<10                      32                  $3.40              $108.96   \n",
       "10-14                    54                  $2.90              $156.60   \n",
       "15-19                   200                  $3.11              $621.56   \n",
       "20-24                   325                  $3.02              $981.64   \n",
       "25-29                    77                  $2.88              $221.42   \n",
       "30-34                    52                  $2.99              $155.71   \n",
       "35-39                    33                  $3.40              $112.35   \n",
       "40+                       7                  $3.08               $21.53   \n",
       "\n",
       "            Avg Total Purchase per person  \n",
       "segment_age                                \n",
       "<10                                 $4.54  \n",
       "10-14                               $3.82  \n",
       "15-19                               $4.14  \n",
       "20-24                               $4.23  \n",
       "25-29                               $3.75  \n",
       "30-34                               $4.21  \n",
       "35-39                               $4.32  \n",
       "40+                                 $3.08  "
      ]
     },
     "execution_count": 13,
     "metadata": {},
     "output_type": "execute_result"
    }
   ],
   "source": [
    "#calculation to obtain purchase count\n",
    "purchase_count_age = Interval_age[\"Purchase ID\"].count()\n",
    "\n",
    "#calculation obtain purchase and formatting with $ sign and round to 2 decimal\n",
    "avg_purchase_price_age = (Interval_age[\"Price\"].mean()).map(\"${:,.2f}\".format)\n",
    "\n",
    "#calculate total purchase value by age group and formatting with $ sign and round to 2 decimal\n",
    "TotalPurchaseValueAge =Interval_age[\"Price\"].sum()\n",
    "\n",
    "total_purchase_value_age =TotalPurchaseValueAge.map(\"${:,.2f}\".format)\n",
    "\n",
    "#average purchase per person in the age group and formatting with $ sign and round to 2 decimal\n",
    "avg_purchase_per_person_age_groupe =(TotalPurchaseValueAge/total_count_age).map(\"${:,.2f}\".format)\n",
    "\n",
    "\n",
    "#create DataFrame for Purchasing Analysis (Age)\n",
    "z={\n",
    "    \"Purchase Count\":purchase_count_age,\n",
    "    \"Average Purchase Price\":avg_purchase_price_age,\n",
    "    \"Total Purchase Value\":total_purchase_value_age,\n",
    "    \"Avg Total Purchase per person\":avg_purchase_per_person_age_groupe\n",
    "}\n",
    "\n",
    "age_group_purchasing_analysis= pd.DataFrame (z,columns = [\"Purchase Count\",\n",
    "                                                          \"Average Purchase Price\",\n",
    "                                                          \"Total Purchase Value\",\n",
    "                                                          \"Avg Total Purchase per person\"])\n",
    "\n",
    "age_group_purchasing_analysis"
   ]
  },
  {
   "cell_type": "markdown",
   "metadata": {},
   "source": [
    "## Top Spenders"
   ]
  },
  {
   "cell_type": "markdown",
   "metadata": {},
   "source": [
    "* Run basic calculations to obtain the results in the table below\n",
    "\n",
    "\n",
    "* Create a summary data frame to hold the results\n",
    "\n",
    "\n",
    "* Sort the total purchase value column in descending order\n",
    "\n",
    "\n",
    "* Optional: give the displayed data cleaner formatting\n",
    "\n",
    "\n",
    "* Display a preview of the summary data frame\n",
    "\n"
   ]
  },
  {
   "cell_type": "code",
   "execution_count": 14,
   "metadata": {},
   "outputs": [
    {
     "data": {
      "text/html": [
       "<div>\n",
       "<style scoped>\n",
       "    .dataframe tbody tr th:only-of-type {\n",
       "        vertical-align: middle;\n",
       "    }\n",
       "\n",
       "    .dataframe tbody tr th {\n",
       "        vertical-align: top;\n",
       "    }\n",
       "\n",
       "    .dataframe thead th {\n",
       "        text-align: right;\n",
       "    }\n",
       "</style>\n",
       "<table border=\"1\" class=\"dataframe\">\n",
       "  <thead>\n",
       "    <tr style=\"text-align: right;\">\n",
       "      <th></th>\n",
       "      <th>Purchase Count</th>\n",
       "      <th>Average Purchase Price</th>\n",
       "      <th>Total Purchase Value</th>\n",
       "    </tr>\n",
       "    <tr>\n",
       "      <th>SN</th>\n",
       "      <th></th>\n",
       "      <th></th>\n",
       "      <th></th>\n",
       "    </tr>\n",
       "  </thead>\n",
       "  <tbody>\n",
       "    <tr>\n",
       "      <th>Lisosia93</th>\n",
       "      <td>5</td>\n",
       "      <td>$3.79</td>\n",
       "      <td>18.96</td>\n",
       "    </tr>\n",
       "    <tr>\n",
       "      <th>Idastidru52</th>\n",
       "      <td>4</td>\n",
       "      <td>$3.86</td>\n",
       "      <td>15.45</td>\n",
       "    </tr>\n",
       "    <tr>\n",
       "      <th>Chamjask73</th>\n",
       "      <td>3</td>\n",
       "      <td>$4.61</td>\n",
       "      <td>13.83</td>\n",
       "    </tr>\n",
       "    <tr>\n",
       "      <th>Iral74</th>\n",
       "      <td>4</td>\n",
       "      <td>$3.40</td>\n",
       "      <td>13.62</td>\n",
       "    </tr>\n",
       "    <tr>\n",
       "      <th>Iskadarya95</th>\n",
       "      <td>3</td>\n",
       "      <td>$4.37</td>\n",
       "      <td>13.10</td>\n",
       "    </tr>\n",
       "  </tbody>\n",
       "</table>\n",
       "</div>"
      ],
      "text/plain": [
       "             Purchase Count Average Purchase Price  Total Purchase Value\n",
       "SN                                                                      \n",
       "Lisosia93                 5                  $3.79                 18.96\n",
       "Idastidru52               4                  $3.86                 15.45\n",
       "Chamjask73                3                  $4.61                 13.83\n",
       "Iral74                    4                  $3.40                 13.62\n",
       "Iskadarya95               3                  $4.37                 13.10"
      ]
     },
     "execution_count": 14,
     "metadata": {},
     "output_type": "execute_result"
    }
   ],
   "source": [
    "# group by spender\n",
    "spender_purchase = purchase_data.groupby(\"SN\")\n",
    "\n",
    "# group total count per spender\n",
    "purchase_count_spender = spender_purchase[\"Purchase ID\"].count()\n",
    "\n",
    "# group by average purchase price per spender\n",
    "avg_purchase_price_spender = (spender_purchase[\"Price\"].mean()).map(\"${:,.2f}\".format)\n",
    "\n",
    "#group by total purchase value per spender \n",
    "total_purchase_spender =spender_purchase[\"Price\"].sum()\n",
    "\n",
    "\n",
    "\n",
    "#create the summary DataFrame \n",
    "\n",
    "v={\n",
    "    \"Purchase Count\":purchase_count_spender,\n",
    "    \"Average Purchase Price\":avg_purchase_price_spender,\n",
    "    \"Total Purchase Value\":total_purchase_spender\n",
    "} \n",
    "\n",
    "summary_top_spender = pd.DataFrame (v,columns = [\"Purchase Count\",\n",
    "                                                 \"Average Purchase Price\",\n",
    "                                                 \"Total Purchase Value\"])\n",
    "\n",
    "# sort value by highest total purchase top 5\n",
    "summary_top_spender.sort_values(\"Total Purchase Value\" , ascending = False).head()\n",
    "\n"
   ]
  },
  {
   "cell_type": "markdown",
   "metadata": {},
   "source": [
    "## Most Popular Items"
   ]
  },
  {
   "cell_type": "markdown",
   "metadata": {},
   "source": [
    "* Retrieve the Item ID, Item Name, and Item Price columns\n",
    "\n",
    "\n",
    "* Group by Item ID and Item Name. Perform calculations to obtain purchase count, item price, and total purchase value\n",
    "\n",
    "\n",
    "* Create a summary data frame to hold the results\n",
    "\n",
    "\n",
    "* Sort the purchase count column in descending order\n",
    "\n",
    "\n",
    "* Optional: give the displayed data cleaner formatting\n",
    "\n",
    "\n",
    "* Display a preview of the summary data frame\n",
    "\n"
   ]
  },
  {
   "cell_type": "code",
   "execution_count": 15,
   "metadata": {},
   "outputs": [
    {
     "data": {
      "text/html": [
       "<style  type=\"text/css\" >\n",
       "</style>  \n",
       "<table id=\"T_c231ecf0_4e7a_11e9_a625_505bc2d07824\" > \n",
       "<thead>    <tr> \n",
       "        <th class=\"blank\" ></th> \n",
       "        <th class=\"blank level0\" ></th> \n",
       "        <th class=\"col_heading level0 col0\" >Purchase Count</th> \n",
       "        <th class=\"col_heading level0 col1\" >Item Price</th> \n",
       "        <th class=\"col_heading level0 col2\" >Total Purchase Value</th> \n",
       "    </tr>    <tr> \n",
       "        <th class=\"index_name level0\" >Item ID</th> \n",
       "        <th class=\"index_name level1\" >Item Name</th> \n",
       "        <th class=\"blank\" ></th> \n",
       "        <th class=\"blank\" ></th> \n",
       "        <th class=\"blank\" ></th> \n",
       "    </tr></thead> \n",
       "<tbody>    <tr> \n",
       "        <th id=\"T_c231ecf0_4e7a_11e9_a625_505bc2d07824level0_row0\" class=\"row_heading level0 row0\" >178</th> \n",
       "        <th id=\"T_c231ecf0_4e7a_11e9_a625_505bc2d07824level1_row0\" class=\"row_heading level1 row0\" >Oathbreaker, Last Hope of the Breaking Storm</th> \n",
       "        <td id=\"T_c231ecf0_4e7a_11e9_a625_505bc2d07824row0_col0\" class=\"data row0 col0\" >12</td> \n",
       "        <td id=\"T_c231ecf0_4e7a_11e9_a625_505bc2d07824row0_col1\" class=\"data row0 col1\" >$4.23</td> \n",
       "        <td id=\"T_c231ecf0_4e7a_11e9_a625_505bc2d07824row0_col2\" class=\"data row0 col2\" >$50.76</td> \n",
       "    </tr>    <tr> \n",
       "        <th id=\"T_c231ecf0_4e7a_11e9_a625_505bc2d07824level0_row1\" class=\"row_heading level0 row1\" >145</th> \n",
       "        <th id=\"T_c231ecf0_4e7a_11e9_a625_505bc2d07824level1_row1\" class=\"row_heading level1 row1\" >Fiery Glass Crusader</th> \n",
       "        <td id=\"T_c231ecf0_4e7a_11e9_a625_505bc2d07824row1_col0\" class=\"data row1 col0\" >9</td> \n",
       "        <td id=\"T_c231ecf0_4e7a_11e9_a625_505bc2d07824row1_col1\" class=\"data row1 col1\" >$4.58</td> \n",
       "        <td id=\"T_c231ecf0_4e7a_11e9_a625_505bc2d07824row1_col2\" class=\"data row1 col2\" >$41.22</td> \n",
       "    </tr>    <tr> \n",
       "        <th id=\"T_c231ecf0_4e7a_11e9_a625_505bc2d07824level0_row2\" class=\"row_heading level0 row2\" >108</th> \n",
       "        <th id=\"T_c231ecf0_4e7a_11e9_a625_505bc2d07824level1_row2\" class=\"row_heading level1 row2\" >Extraction, Quickblade Of Trembling Hands</th> \n",
       "        <td id=\"T_c231ecf0_4e7a_11e9_a625_505bc2d07824row2_col0\" class=\"data row2 col0\" >9</td> \n",
       "        <td id=\"T_c231ecf0_4e7a_11e9_a625_505bc2d07824row2_col1\" class=\"data row2 col1\" >$3.53</td> \n",
       "        <td id=\"T_c231ecf0_4e7a_11e9_a625_505bc2d07824row2_col2\" class=\"data row2 col2\" >$31.77</td> \n",
       "    </tr>    <tr> \n",
       "        <th id=\"T_c231ecf0_4e7a_11e9_a625_505bc2d07824level0_row3\" class=\"row_heading level0 row3\" >82</th> \n",
       "        <th id=\"T_c231ecf0_4e7a_11e9_a625_505bc2d07824level1_row3\" class=\"row_heading level1 row3\" >Nirvana</th> \n",
       "        <td id=\"T_c231ecf0_4e7a_11e9_a625_505bc2d07824row3_col0\" class=\"data row3 col0\" >9</td> \n",
       "        <td id=\"T_c231ecf0_4e7a_11e9_a625_505bc2d07824row3_col1\" class=\"data row3 col1\" >$4.90</td> \n",
       "        <td id=\"T_c231ecf0_4e7a_11e9_a625_505bc2d07824row3_col2\" class=\"data row3 col2\" >$44.10</td> \n",
       "    </tr>    <tr> \n",
       "        <th id=\"T_c231ecf0_4e7a_11e9_a625_505bc2d07824level0_row4\" class=\"row_heading level0 row4\" >19</th> \n",
       "        <th id=\"T_c231ecf0_4e7a_11e9_a625_505bc2d07824level1_row4\" class=\"row_heading level1 row4\" >Pursuit, Cudgel of Necromancy</th> \n",
       "        <td id=\"T_c231ecf0_4e7a_11e9_a625_505bc2d07824row4_col0\" class=\"data row4 col0\" >8</td> \n",
       "        <td id=\"T_c231ecf0_4e7a_11e9_a625_505bc2d07824row4_col1\" class=\"data row4 col1\" >$1.02</td> \n",
       "        <td id=\"T_c231ecf0_4e7a_11e9_a625_505bc2d07824row4_col2\" class=\"data row4 col2\" >$8.16</td> \n",
       "    </tr></tbody> \n",
       "</table> "
      ],
      "text/plain": [
       "<pandas.io.formats.style.Styler at 0x23b63c1eb70>"
      ]
     },
     "execution_count": 15,
     "metadata": {},
     "output_type": "execute_result"
    }
   ],
   "source": [
    "# Create new data frame with new columns \n",
    "New_column_list = purchase_data[[\"Item ID\", \"Item Name\", \"Price\"]]\n",
    "\n",
    "# Group by item id and item name \n",
    "item1 = New_column_list.groupby([\"Item ID\",\"Item Name\"])\n",
    "\n",
    "# number of times an item has been purchased \n",
    "purchase_item = item1[\"Price\"].count()\n",
    "\n",
    "# purchase value per item \n",
    "purchase_per_items= item1[\"Price\"].sum()\n",
    "\n",
    "# Find individual item price\n",
    "item_price = purchase_per_items/purchase_item\n",
    "\n",
    "# Create data frame with new column\n",
    "MostPopularItems = pd.DataFrame({\"Purchase Count\": purchase_item, \n",
    "                                   \"Item Price\": item_price,\n",
    "                                   \"Total Purchase Value\":purchase_per_items})\n",
    "\n",
    "# Sort in descending to have the top 5\n",
    "most_popular_items= MostPopularItems.sort_values([\"Purchase Count\"], ascending=False).head()\n",
    "\n",
    "#formatting with $ sign\n",
    "most_popular_items.style.format({\"Item Price\":\"${:,.2f}\",\n",
    "                                \"Total Purchase Value\":\"${:,.2f}\"})\n",
    "\n"
   ]
  },
  {
   "cell_type": "markdown",
   "metadata": {},
   "source": [
    "## Most Profitable Items"
   ]
  },
  {
   "cell_type": "markdown",
   "metadata": {},
   "source": [
    "* Sort the above table by total purchase value in descending order\n",
    "\n",
    "\n",
    "* Optional: give the displayed data cleaner formatting\n",
    "\n",
    "\n",
    "* Display a preview of the data frame\n",
    "\n"
   ]
  },
  {
   "cell_type": "code",
   "execution_count": 16,
   "metadata": {},
   "outputs": [
    {
     "data": {
      "text/html": [
       "<style  type=\"text/css\" >\n",
       "</style>  \n",
       "<table id=\"T_c2345c58_4e7a_11e9_88bb_505bc2d07824\" > \n",
       "<thead>    <tr> \n",
       "        <th class=\"blank\" ></th> \n",
       "        <th class=\"blank level0\" ></th> \n",
       "        <th class=\"col_heading level0 col0\" >Purchase Count</th> \n",
       "        <th class=\"col_heading level0 col1\" >Item Price</th> \n",
       "        <th class=\"col_heading level0 col2\" >Total Purchase Value</th> \n",
       "    </tr>    <tr> \n",
       "        <th class=\"index_name level0\" >Item ID</th> \n",
       "        <th class=\"index_name level1\" >Item Name</th> \n",
       "        <th class=\"blank\" ></th> \n",
       "        <th class=\"blank\" ></th> \n",
       "        <th class=\"blank\" ></th> \n",
       "    </tr></thead> \n",
       "<tbody>    <tr> \n",
       "        <th id=\"T_c2345c58_4e7a_11e9_88bb_505bc2d07824level0_row0\" class=\"row_heading level0 row0\" >178</th> \n",
       "        <th id=\"T_c2345c58_4e7a_11e9_88bb_505bc2d07824level1_row0\" class=\"row_heading level1 row0\" >Oathbreaker, Last Hope of the Breaking Storm</th> \n",
       "        <td id=\"T_c2345c58_4e7a_11e9_88bb_505bc2d07824row0_col0\" class=\"data row0 col0\" >12</td> \n",
       "        <td id=\"T_c2345c58_4e7a_11e9_88bb_505bc2d07824row0_col1\" class=\"data row0 col1\" >$4.23</td> \n",
       "        <td id=\"T_c2345c58_4e7a_11e9_88bb_505bc2d07824row0_col2\" class=\"data row0 col2\" >$50.76</td> \n",
       "    </tr>    <tr> \n",
       "        <th id=\"T_c2345c58_4e7a_11e9_88bb_505bc2d07824level0_row1\" class=\"row_heading level0 row1\" >82</th> \n",
       "        <th id=\"T_c2345c58_4e7a_11e9_88bb_505bc2d07824level1_row1\" class=\"row_heading level1 row1\" >Nirvana</th> \n",
       "        <td id=\"T_c2345c58_4e7a_11e9_88bb_505bc2d07824row1_col0\" class=\"data row1 col0\" >9</td> \n",
       "        <td id=\"T_c2345c58_4e7a_11e9_88bb_505bc2d07824row1_col1\" class=\"data row1 col1\" >$4.90</td> \n",
       "        <td id=\"T_c2345c58_4e7a_11e9_88bb_505bc2d07824row1_col2\" class=\"data row1 col2\" >$44.10</td> \n",
       "    </tr>    <tr> \n",
       "        <th id=\"T_c2345c58_4e7a_11e9_88bb_505bc2d07824level0_row2\" class=\"row_heading level0 row2\" >145</th> \n",
       "        <th id=\"T_c2345c58_4e7a_11e9_88bb_505bc2d07824level1_row2\" class=\"row_heading level1 row2\" >Fiery Glass Crusader</th> \n",
       "        <td id=\"T_c2345c58_4e7a_11e9_88bb_505bc2d07824row2_col0\" class=\"data row2 col0\" >9</td> \n",
       "        <td id=\"T_c2345c58_4e7a_11e9_88bb_505bc2d07824row2_col1\" class=\"data row2 col1\" >$4.58</td> \n",
       "        <td id=\"T_c2345c58_4e7a_11e9_88bb_505bc2d07824row2_col2\" class=\"data row2 col2\" >$41.22</td> \n",
       "    </tr>    <tr> \n",
       "        <th id=\"T_c2345c58_4e7a_11e9_88bb_505bc2d07824level0_row3\" class=\"row_heading level0 row3\" >92</th> \n",
       "        <th id=\"T_c2345c58_4e7a_11e9_88bb_505bc2d07824level1_row3\" class=\"row_heading level1 row3\" >Final Critic</th> \n",
       "        <td id=\"T_c2345c58_4e7a_11e9_88bb_505bc2d07824row3_col0\" class=\"data row3 col0\" >8</td> \n",
       "        <td id=\"T_c2345c58_4e7a_11e9_88bb_505bc2d07824row3_col1\" class=\"data row3 col1\" >$4.88</td> \n",
       "        <td id=\"T_c2345c58_4e7a_11e9_88bb_505bc2d07824row3_col2\" class=\"data row3 col2\" >$39.04</td> \n",
       "    </tr>    <tr> \n",
       "        <th id=\"T_c2345c58_4e7a_11e9_88bb_505bc2d07824level0_row4\" class=\"row_heading level0 row4\" >103</th> \n",
       "        <th id=\"T_c2345c58_4e7a_11e9_88bb_505bc2d07824level1_row4\" class=\"row_heading level1 row4\" >Singed Scalpel</th> \n",
       "        <td id=\"T_c2345c58_4e7a_11e9_88bb_505bc2d07824row4_col0\" class=\"data row4 col0\" >8</td> \n",
       "        <td id=\"T_c2345c58_4e7a_11e9_88bb_505bc2d07824row4_col1\" class=\"data row4 col1\" >$4.35</td> \n",
       "        <td id=\"T_c2345c58_4e7a_11e9_88bb_505bc2d07824row4_col2\" class=\"data row4 col2\" >$34.80</td> \n",
       "    </tr></tbody> \n",
       "</table> "
      ],
      "text/plain": [
       "<pandas.io.formats.style.Styler at 0x23b63c1ecc0>"
      ]
     },
     "execution_count": 16,
     "metadata": {},
     "output_type": "execute_result"
    }
   ],
   "source": [
    "# sort the previous table by Total purchase value  to have the most profitable items\n",
    "most_popular_items = MostPopularItems.sort_values([\"Total Purchase Value\"],\n",
    "                                                   ascending=False).head()\n",
    "# Formatting\n",
    "most_popular_items.style.format({\"Item Price\":\"${:,.2f}\",\n",
    "                                \"Total Purchase Value\":\"${:,.2f}\"})\n",
    "\n"
   ]
  }
 ],
 "metadata": {
  "anaconda-cloud": {},
  "kernel_info": {
   "name": "python3"
  },
  "kernelspec": {
   "display_name": "Python 3",
   "language": "python",
   "name": "python3"
  },
  "language_info": {
   "codemirror_mode": {
    "name": "ipython",
    "version": 3
   },
   "file_extension": ".py",
   "mimetype": "text/x-python",
   "name": "python",
   "nbconvert_exporter": "python",
   "pygments_lexer": "ipython3",
   "version": "3.7.0"
  },
  "nteract": {
   "version": "0.2.0"
  }
 },
 "nbformat": 4,
 "nbformat_minor": 2
}
